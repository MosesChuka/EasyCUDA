{
 "cells": [
  {
   "cell_type": "markdown",
   "id": "837d66b9",
   "metadata": {},
   "source": [
    "# Memory Allocation in CUDA\n"
   ]
  }
 ],
 "metadata": {
  "language_info": {
   "name": "python"
  }
 },
 "nbformat": 4,
 "nbformat_minor": 5
}
