{
 "cells": [
  {
   "cell_type": "markdown",
   "id": "837d66b9",
   "metadata": {},
   "source": [
    "# Notes on CUDA\n",
    "\n",
    "## Locking from outside the block.\n",
    "- The thread contains a number of computational threads which are grouped up in blocks.\n",
    "- The blocks of parallel theads make up a `grid`.\n",
    "- If there are `N` operations to perform and, say, 256 threads per block, the number of blocks needed for N operation needs to be calculated. \n",
    "    Needed number of blocks = (N + blockSize - 1) / blockSize. [blockSize was added to compensate for remainders]\n",
    "\n",
    "- `gridDim.x`: number of blocks in a grid\n",
    "- `blockIdx.x` keeps the index of the current thread block in the grid.\n",
    "- **Fundamentally, to calculate the index of a thread, you need do the following multiplication: blockIdx x blockDim.x + threadIdx.x ** "
   ]
  },
  {
   "cell_type": "markdown",
   "id": "f0998604",
   "metadata": {},
   "source": [
    "## Unified Memory Prefetching\n",
    "- Unified Memory in CUDA is virtual memory.\n",
    "- Individual virtual memory pages may be resident in the memory of any device (GPU or CPU) in the system, and those pages are migrated on demand.\n",
    "- The programe in `4_add_with_nThreads_nBlocks.cu` first initializes the arrays on the CPU in a for loop, and then launches the kernel where the arrays are read and written by the GPU. The memory pages are all CPU-resident when the kernel runs initially, and there are multiple pages faults. The system has to migrate the memory pages to the GPU memory when faults occur. \n",
    "- Memory page hardware migration may slow down program speed by causing a memory bottleneck."
   ]
  }
 ],
 "metadata": {
  "language_info": {
   "name": "python"
  }
 },
 "nbformat": 4,
 "nbformat_minor": 5
}
